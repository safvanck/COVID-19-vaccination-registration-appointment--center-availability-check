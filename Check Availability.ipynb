{
 "cells": [
  {
   "cell_type": "code",
   "execution_count": 1,
   "metadata": {},
   "outputs": [],
   "source": [
    "import requests\n",
    "import time\n",
    "import json\n",
    "import os"
   ]
  },
  {
   "cell_type": "code",
   "execution_count": 2,
   "metadata": {},
   "outputs": [],
   "source": [
    "#INPUT:\n",
    "district_code = 302 #malappuram\n",
    "pincode = 676528\n",
    "a_date = \"30-04-2021\""
   ]
  },
  {
   "cell_type": "code",
   "execution_count": 3,
   "metadata": {},
   "outputs": [],
   "source": [
    "def validate_res(dt):\n",
    "    if (dt != '{\"centers\":[]}') and (dt != '{\"message\":\"Too Many Requests\"}'):\n",
    "        if dt == \"Unauthenticated access!\":\n",
    "            os.system(f'spd-say \"trying again...\"')\n",
    "        else:\n",
    "            dt_list = [_.get(\"name\") for _ in json.loads(dt).get('centers')]\n",
    "            os.system(f'spd-say \"{dt_list}\"')\n",
    "            print(dt_list)\n",
    "            return True\n",
    "    return False"
   ]
  },
  {
   "cell_type": "code",
   "execution_count": 5,
   "metadata": {
    "scrolled": false
   },
   "outputs": [],
   "source": [
    "a= True\n",
    "while a:\n",
    "    x = requests.get(f'https://cdn-api.co-vin.in/api/v2/appointment/sessions/calendarByPin?pincode={pincode}&date={a_date}')\n",
    "    data = (x.content).decode(\"utf-8\")\n",
    "    a = not validate_res(data)\n",
    "    if a:\n",
    "        x = requests.get(f'https://cdn-api.co-vin.in/api/v2/appointment/sessions/calendarByDistrict?district_id={district_code}&date={a_date}')\n",
    "        data = (x.content).decode(\"utf-8\")\n",
    "        a = not validate_res(data)\n",
    "    time.sleep(2)"
   ]
  },
  {
   "cell_type": "code",
   "execution_count": null,
   "metadata": {},
   "outputs": [],
   "source": []
  }
 ],
 "metadata": {
  "kernelspec": {
   "display_name": "Python 3",
   "language": "python",
   "name": "python3"
  },
  "language_info": {
   "codemirror_mode": {
    "name": "ipython",
    "version": 3
   },
   "file_extension": ".py",
   "mimetype": "text/x-python",
   "name": "python",
   "nbconvert_exporter": "python",
   "pygments_lexer": "ipython3",
   "version": "3.6.6"
  }
 },
 "nbformat": 4,
 "nbformat_minor": 2
}
